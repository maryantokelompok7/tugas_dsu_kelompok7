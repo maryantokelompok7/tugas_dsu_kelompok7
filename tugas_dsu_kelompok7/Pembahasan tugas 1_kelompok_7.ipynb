{
 "cells": [
  {
   "cell_type": "code",
   "execution_count": 1,
   "metadata": {},
   "outputs": [],
   "source": [
    "import pandas as pd\n",
    "import seaborn as sns\n",
    "\n",
    "catatan_lokasi = pd.read_csv(\"catatan_lokasi.csv\")\n",
    "data_profil = pd.read_csv(\"data_profil.csv\")"
   ]
  },
  {
   "cell_type": "code",
   "execution_count": 2,
   "metadata": {},
   "outputs": [
    {
     "data": {
      "text/html": [
       "<div>\n",
       "<style scoped>\n",
       "    .dataframe tbody tr th:only-of-type {\n",
       "        vertical-align: middle;\n",
       "    }\n",
       "\n",
       "    .dataframe tbody tr th {\n",
       "        vertical-align: top;\n",
       "    }\n",
       "\n",
       "    .dataframe thead th {\n",
       "        text-align: right;\n",
       "    }\n",
       "</style>\n",
       "<table border=\"1\" class=\"dataframe\">\n",
       "  <thead>\n",
       "    <tr style=\"text-align: right;\">\n",
       "      <th></th>\n",
       "      <th>id</th>\n",
       "      <th>tanggal</th>\n",
       "      <th>lokasi_dominan</th>\n",
       "    </tr>\n",
       "  </thead>\n",
       "  <tbody>\n",
       "    <tr>\n",
       "      <th>0</th>\n",
       "      <td>1</td>\n",
       "      <td>21/05/19</td>\n",
       "      <td>Jakarta Pusat</td>\n",
       "    </tr>\n",
       "    <tr>\n",
       "      <th>1</th>\n",
       "      <td>2</td>\n",
       "      <td>21/05/19</td>\n",
       "      <td>Kabupaten Bogor</td>\n",
       "    </tr>\n",
       "    <tr>\n",
       "      <th>2</th>\n",
       "      <td>3</td>\n",
       "      <td>21/05/19</td>\n",
       "      <td>Jakarta Pusat</td>\n",
       "    </tr>\n",
       "    <tr>\n",
       "      <th>3</th>\n",
       "      <td>4</td>\n",
       "      <td>21/05/19</td>\n",
       "      <td>Kota Tangerang</td>\n",
       "    </tr>\n",
       "    <tr>\n",
       "      <th>4</th>\n",
       "      <td>5</td>\n",
       "      <td>21/05/19</td>\n",
       "      <td>Kota Bogor</td>\n",
       "    </tr>\n",
       "  </tbody>\n",
       "</table>\n",
       "</div>"
      ],
      "text/plain": [
       "   id   tanggal   lokasi_dominan\n",
       "0   1  21/05/19    Jakarta Pusat\n",
       "1   2  21/05/19  Kabupaten Bogor\n",
       "2   3  21/05/19    Jakarta Pusat\n",
       "3   4  21/05/19   Kota Tangerang\n",
       "4   5  21/05/19       Kota Bogor"
      ]
     },
     "execution_count": 2,
     "metadata": {},
     "output_type": "execute_result"
    }
   ],
   "source": [
    "catatan_lokasi.head()"
   ]
  },
  {
   "cell_type": "markdown",
   "metadata": {},
   "source": [
    "1. Dengan keadaan di mana salah satu divisi penting dari perusahaan Tokolapak ini karyawannya mudik semua, apakah jual beli toko online ini akan tetap berjalan?"
   ]
  },
  {
   "cell_type": "code",
   "execution_count": 8,
   "metadata": {},
   "outputs": [],
   "source": [
    "divisi = data_profil.divisi.unique()\n",
    "kel_divisi = {}\n",
    "for div in divisi:\n",
    "    kel_divisi[div] = set(data_profil[data_profil['divisi']==div].index.to_list())"
   ]
  },
  {
   "cell_type": "code",
   "execution_count": 9,
   "metadata": {},
   "outputs": [
    {
     "name": "stderr",
     "output_type": "stream",
     "text": [
      "c:\\winpython_64bit\\python-3.6.5.amd64\\lib\\site-packages\\pandas\\core\\indexing.py:202: SettingWithCopyWarning: \n",
      "A value is trying to be set on a copy of a slice from a DataFrame\n",
      "\n",
      "See the caveats in the documentation: http://pandas.pydata.org/pandas-docs/stable/user_guide/indexing.html#returning-a-view-versus-a-copy\n",
      "  self._setitem_with_indexer(indexer, value)\n"
     ]
    }
   ],
   "source": [
    "jabodetabek = [\"jakarta\", \"bogor\", \"depok\", \"tangerang\", \"bekasi\"]\n",
    "catatan_lokasi[\"mudik\"] = 1\n",
    "for i in catatan_lokasi.index:\n",
    "    lokasi = catatan_lokasi.iloc[i].lokasi_dominan\n",
    "    lokasi_perkata = lokasi.lower().split()\n",
    "    for lk in lokasi_perkata:\n",
    "        if lk in jabodetabek:\n",
    "            catatan_lokasi[\"mudik\"].iloc[i] = 0\n",
    "            break"
   ]
  },
  {
   "cell_type": "code",
   "execution_count": 10,
   "metadata": {},
   "outputs": [
    {
     "name": "stdout",
     "output_type": "stream",
     "text": [
      "\n",
      "Tanggal 21/05/19\n",
      "\n",
      "Tanggal 22/05/19\n",
      "\n",
      "Tanggal 23/05/19\n",
      "divisi Software Engineer mudik semua\n",
      "\n",
      "Tanggal 24/05/19\n",
      "divisi Software Engineer mudik semua\n",
      "divisi Marketing mudik semua\n",
      "\n",
      "Tanggal 25/05/19\n",
      "divisi Data Science mudik semua\n",
      "divisi Marketing mudik semua\n",
      "\n",
      "Tanggal 26/05/19\n",
      "divisi Data Engineer mudik semua\n",
      "divisi Software Engineer mudik semua\n",
      "divisi Business Intelligence mudik semua\n",
      "divisi Marketing mudik semua\n",
      "\n",
      "Tanggal 27/05/19\n",
      "divisi Customer Service mudik semua\n",
      "divisi Software Engineer mudik semua\n",
      "divisi Marketing mudik semua\n",
      "\n",
      "Tanggal 28/05/19\n",
      "divisi Customer Service mudik semua\n",
      "divisi Data Engineer mudik semua\n",
      "divisi Software Engineer mudik semua\n",
      "divisi Marketing mudik semua\n",
      "\n",
      "Tanggal 29/05/19\n",
      "divisi Customer Service mudik semua\n",
      "divisi Data Engineer mudik semua\n",
      "divisi Software Engineer mudik semua\n",
      "divisi Business Intelligence mudik semua\n",
      "divisi Data Science mudik semua\n",
      "divisi Marketing mudik semua\n",
      "\n",
      "Tanggal 30/05/19\n",
      "divisi Customer Service mudik semua\n",
      "divisi Data Engineer mudik semua\n",
      "divisi Software Engineer mudik semua\n",
      "divisi Business Intelligence mudik semua\n",
      "divisi Data Science mudik semua\n",
      "divisi Marketing mudik semua\n",
      "\n",
      "Tanggal 31/05/19\n",
      "divisi Customer Service mudik semua\n",
      "divisi Data Engineer mudik semua\n",
      "divisi Software Engineer mudik semua\n",
      "divisi Business Intelligence mudik semua\n",
      "divisi Data Science mudik semua\n",
      "divisi Marketing mudik semua\n",
      "\n",
      "Tanggal 01/06/19\n",
      "divisi Customer Service mudik semua\n",
      "divisi Data Engineer mudik semua\n",
      "divisi Software Engineer mudik semua\n",
      "divisi Business Intelligence mudik semua\n",
      "divisi Data Science mudik semua\n",
      "divisi Marketing mudik semua\n",
      "\n",
      "Tanggal 02/06/19\n",
      "divisi Customer Service mudik semua\n",
      "divisi Data Engineer mudik semua\n",
      "divisi Software Engineer mudik semua\n",
      "divisi Business Intelligence mudik semua\n",
      "divisi Data Science mudik semua\n",
      "divisi Marketing mudik semua\n",
      "\n",
      "Tanggal 03/06/19\n",
      "divisi Customer Service mudik semua\n",
      "divisi Data Engineer mudik semua\n",
      "divisi Software Engineer mudik semua\n",
      "divisi Business Intelligence mudik semua\n",
      "divisi Data Science mudik semua\n",
      "divisi Marketing mudik semua\n",
      "\n",
      "Tanggal 04/06/19\n",
      "divisi Customer Service mudik semua\n",
      "divisi Data Engineer mudik semua\n",
      "divisi Software Engineer mudik semua\n",
      "divisi Business Intelligence mudik semua\n",
      "divisi Data Science mudik semua\n",
      "divisi Marketing mudik semua\n",
      "\n",
      "Tanggal 05/06/19\n",
      "divisi Customer Service mudik semua\n",
      "divisi Data Engineer mudik semua\n",
      "divisi Software Engineer mudik semua\n",
      "divisi Business Intelligence mudik semua\n",
      "divisi Data Science mudik semua\n",
      "divisi Marketing mudik semua\n",
      "\n",
      "Tanggal 06/06/19\n",
      "divisi Customer Service mudik semua\n",
      "divisi Data Engineer mudik semua\n",
      "divisi Software Engineer mudik semua\n",
      "divisi Business Intelligence mudik semua\n",
      "divisi Data Science mudik semua\n",
      "divisi Marketing mudik semua\n",
      "\n",
      "Tanggal 07/06/19\n",
      "divisi Customer Service mudik semua\n",
      "divisi Data Engineer mudik semua\n",
      "divisi Software Engineer mudik semua\n",
      "divisi Business Intelligence mudik semua\n",
      "divisi Data Science mudik semua\n",
      "divisi Marketing mudik semua\n",
      "\n",
      "Tanggal 08/06/19\n",
      "divisi Customer Service mudik semua\n",
      "divisi Data Engineer mudik semua\n",
      "divisi Software Engineer mudik semua\n",
      "divisi Business Intelligence mudik semua\n",
      "divisi Data Science mudik semua\n",
      "divisi Marketing mudik semua\n",
      "\n",
      "Tanggal 09/06/19\n",
      "divisi Customer Service mudik semua\n",
      "divisi Data Engineer mudik semua\n",
      "divisi Software Engineer mudik semua\n",
      "divisi Business Intelligence mudik semua\n",
      "divisi Data Science mudik semua\n",
      "divisi Marketing mudik semua\n",
      "\n",
      "Tanggal 10/06/19\n",
      "divisi Customer Service mudik semua\n",
      "divisi Data Engineer mudik semua\n",
      "divisi Software Engineer mudik semua\n",
      "divisi Business Intelligence mudik semua\n",
      "divisi Data Science mudik semua\n",
      "divisi Marketing mudik semua\n",
      "\n",
      "Tanggal 11/06/19\n",
      "divisi Data Science mudik semua\n",
      "divisi Marketing mudik semua\n",
      "\n",
      "Tanggal 12/06/19\n",
      "divisi Software Engineer mudik semua\n",
      "divisi Marketing mudik semua\n",
      "\n",
      "Tanggal 13/06/19\n",
      "divisi Software Engineer mudik semua\n",
      "\n",
      "Tanggal 14/06/19\n",
      "\n",
      "Tanggal 15/06/19\n"
     ]
    }
   ],
   "source": [
    "#Ingin memeriksa setiap tanggalnya\n",
    "tanggal_mudik = catatan_lokasi.tanggal.unique()\n",
    "for tm in tanggal_mudik:\n",
    "    print(f\"\\nTanggal {tm}\")\n",
    "    for div in kel_divisi:\n",
    "        if kel_divisi[div].intersection(set(catatan_lokasi[(catatan_lokasi[\"mudik\"]==1) & (catatan_lokasi[\"tanggal\"]==tm)].id.to_list())):\n",
    "            print(f\"divisi {div} mudik semua\")\n",
    "            continue"
   ]
  },
  {
   "cell_type": "markdown",
   "metadata": {},
   "source": [
    "2. Berapakah umur termuda dari karyawan yang tergabung dalam divisi Data Science?"
   ]
  },
  {
   "cell_type": "code",
   "execution_count": 11,
   "metadata": {},
   "outputs": [
    {
     "name": "stdout",
     "output_type": "stream",
     "text": [
      "karyawan termuda di divisi Data Science berumur 21 tahun\n"
     ]
    }
   ],
   "source": [
    "#1. memfilter data yang berisi data science\n",
    "profil_ds = data_profil[data_profil['divisi']=='Data Science']\n",
    "\n",
    "umur_ds = profil_ds.umur\n",
    "#sorting umur ascending\n",
    "print(f\"karyawan termuda di divisi Data Science berumur {umur_ds.min()} tahun\")"
   ]
  },
  {
   "cell_type": "markdown",
   "metadata": {},
   "source": [
    "3. Berapa jumlah karyawan yang kemungkinan besar menyempatkan untuk berwisata ke Keraton Yogyakarta, Pantai Parangtritis, atau wisata Kaliurang selama masa mudiknya? (Asumsi karyawan yang mudik ke DIY saja yang kemungkinan besar berwisata ke tempat-tempat tersebut.)"
   ]
  },
  {
   "cell_type": "code",
   "execution_count": 12,
   "metadata": {},
   "outputs": [
    {
     "name": "stdout",
     "output_type": "stream",
     "text": [
      "14 orang berkemungkinan wisata ke Keraton Yogyakarta, Pantai Parangtritis, atau wisata Kaliurang\n"
     ]
    }
   ],
   "source": [
    "#membuat list kosong yang diisi data\n",
    "mudik_jogja = []\n",
    "#periksa semua data catatan lokasi\n",
    "for i in catatan_lokasi.index:\n",
    "    lokasi = catatan_lokasi.iloc[i][\"lokasi_dominan\"]\n",
    "    lokasi_perkata = lokasi.lower().split()\n",
    "    for lk in lokasi_perkata:\n",
    "        if lk in [\"yogyakarta\", 'jogjakarta']:\n",
    "            mudik_jogja.append(catatan_lokasi.iloc[i][\"id\"])\n",
    "            break\n",
    "print(f\"{len(set(mudik_jogja))} orang berkemungkinan wisata ke Keraton Yogyakarta, Pantai Parangtritis, atau wisata Kaliurang\")"
   ]
  },
  {
   "cell_type": "markdown",
   "metadata": {},
   "source": [
    "4. Karyawan dengan id berapakah yang memiliki kesempatan besar untuk menikmati wisata Pantai Karang Bolong Kebumen?"
   ]
  },
  {
   "cell_type": "code",
   "execution_count": 13,
   "metadata": {},
   "outputs": [
    {
     "name": "stdout",
     "output_type": "stream",
     "text": [
      "2 orang berkesempatan menikmati wisata Pantai Karang Bolong Kebumen\n"
     ]
    }
   ],
   "source": [
    "mudik_kebumen = []\n",
    "for i in catatan_lokasi.index:\n",
    "    lokasi = catatan_lokasi.iloc[i][\"lokasi_dominan\"]\n",
    "    lokasi_perkata = lokasi.lower().split()\n",
    "    for lk in lokasi_perkata:\n",
    "        if lk==\"kebumen\":\n",
    "            mudik_kebumen.append(catatan_lokasi.iloc[i][\"id\"])\n",
    "            break\n",
    "print(f\"{len(set(mudik_kebumen))} orang berkesempatan menikmati wisata Pantai Karang Bolong Kebumen\")"
   ]
  },
  {
   "cell_type": "markdown",
   "metadata": {},
   "source": [
    "5. Berapa jumlah karyawan yang melakukan mudik pada tanggal 30 Mei 2019?"
   ]
  },
  {
   "cell_type": "code",
   "execution_count": 14,
   "metadata": {},
   "outputs": [
    {
     "name": "stdout",
     "output_type": "stream",
     "text": [
      "34 karyawan mudik pada tanggal 30 mei 2019\n"
     ]
    }
   ],
   "source": [
    "jumlah_mudik_30mei = len(catatan_lokasi[(catatan_lokasi[\"mudik\"]==1) & (catatan_lokasi[\"tanggal\"]==\"30/05/19\")])\n",
    "\n",
    "print(f\"{jumlah_mudik_30mei} karyawan mudik pada tanggal 30 mei 2019\")"
   ]
  },
  {
   "cell_type": "markdown",
   "metadata": {},
   "source": [
    "6. Divisi apa yang karyawannya paling banyak melakukan mudik?"
   ]
  },
  {
   "cell_type": "code",
   "execution_count": 15,
   "metadata": {},
   "outputs": [
    {
     "data": {
      "text/html": [
       "<div>\n",
       "<style scoped>\n",
       "    .dataframe tbody tr th:only-of-type {\n",
       "        vertical-align: middle;\n",
       "    }\n",
       "\n",
       "    .dataframe tbody tr th {\n",
       "        vertical-align: top;\n",
       "    }\n",
       "\n",
       "    .dataframe thead th {\n",
       "        text-align: right;\n",
       "    }\n",
       "</style>\n",
       "<table border=\"1\" class=\"dataframe\">\n",
       "  <thead>\n",
       "    <tr style=\"text-align: right;\">\n",
       "      <th></th>\n",
       "      <th>divisi</th>\n",
       "      <th>skor</th>\n",
       "    </tr>\n",
       "  </thead>\n",
       "  <tbody>\n",
       "    <tr>\n",
       "      <th>0</th>\n",
       "      <td>Software Engineer</td>\n",
       "      <td>19</td>\n",
       "    </tr>\n",
       "    <tr>\n",
       "      <th>1</th>\n",
       "      <td>Marketing</td>\n",
       "      <td>19</td>\n",
       "    </tr>\n",
       "    <tr>\n",
       "      <th>2</th>\n",
       "      <td>Data Science</td>\n",
       "      <td>14</td>\n",
       "    </tr>\n",
       "    <tr>\n",
       "      <th>3</th>\n",
       "      <td>Data Engineer</td>\n",
       "      <td>14</td>\n",
       "    </tr>\n",
       "    <tr>\n",
       "      <th>5</th>\n",
       "      <td>Customer Service</td>\n",
       "      <td>14</td>\n",
       "    </tr>\n",
       "    <tr>\n",
       "      <th>4</th>\n",
       "      <td>Business Intelligence</td>\n",
       "      <td>13</td>\n",
       "    </tr>\n",
       "  </tbody>\n",
       "</table>\n",
       "</div>"
      ],
      "text/plain": [
       "                  divisi  skor\n",
       "0      Software Engineer    19\n",
       "1              Marketing    19\n",
       "2           Data Science    14\n",
       "3          Data Engineer    14\n",
       "5       Customer Service    14\n",
       "4  Business Intelligence    13"
      ]
     },
     "execution_count": 15,
     "metadata": {},
     "output_type": "execute_result"
    }
   ],
   "source": [
    "tanggal_mudik = catatan_lokasi.tanggal.unique()\n",
    "skor_mudik = {}\n",
    "for tm in tanggal_mudik:\n",
    "    for div in kel_divisi:\n",
    "        if kel_divisi[div].intersection(set(catatan_lokasi[(catatan_lokasi[\"mudik\"]==1) & (catatan_lokasi[\"tanggal\"]==tm)].id.to_list())):\n",
    "            try:\n",
    "                skor_mudik[div] += 1\n",
    "#               skor_mudik[div] = skor_mudik[div] + 1\n",
    "            except:\n",
    "                skor_mudik[div] = 0\n",
    "            continue\n",
    "            \n",
    "df_skor_mudik = pd.DataFrame(list(skor_mudik.items()),columns = ['divisi','skor'])\n",
    "df_skor_mudik.sort_values(\"skor\",ascending=False)"
   ]
  },
  {
   "cell_type": "markdown",
   "metadata": {},
   "source": [
    "7. Berapakah median umur dari keseluruhan karyawan Tokolapak?"
   ]
  },
  {
   "cell_type": "code",
   "execution_count": 16,
   "metadata": {},
   "outputs": [
    {
     "name": "stdout",
     "output_type": "stream",
     "text": [
      "median umur karyawan tokolapak adalah 27.0\n"
     ]
    }
   ],
   "source": [
    "print(f\"median umur karyawan tokolapak adalah {data_profil.umur.median()}\")"
   ]
  },
  {
   "cell_type": "markdown",
   "metadata": {},
   "source": [
    "8. Tanggal berapakah menjadi hari favorit karyawan Tokolapak pulang ke Jabodetabek?"
   ]
  },
  {
   "cell_type": "code",
   "execution_count": 17,
   "metadata": {},
   "outputs": [
    {
     "data": {
      "text/html": [
       "<div>\n",
       "<style scoped>\n",
       "    .dataframe tbody tr th:only-of-type {\n",
       "        vertical-align: middle;\n",
       "    }\n",
       "\n",
       "    .dataframe tbody tr th {\n",
       "        vertical-align: top;\n",
       "    }\n",
       "\n",
       "    .dataframe thead th {\n",
       "        text-align: right;\n",
       "    }\n",
       "</style>\n",
       "<table border=\"1\" class=\"dataframe\">\n",
       "  <thead>\n",
       "    <tr style=\"text-align: right;\">\n",
       "      <th></th>\n",
       "      <th>tanggal</th>\n",
       "      <th>selisih pemudik dengan hari kemarin</th>\n",
       "    </tr>\n",
       "  </thead>\n",
       "  <tbody>\n",
       "    <tr>\n",
       "      <th>8</th>\n",
       "      <td>09/06/19</td>\n",
       "      <td>49</td>\n",
       "    </tr>\n",
       "  </tbody>\n",
       "</table>\n",
       "</div>"
      ],
      "text/plain": [
       "    tanggal  selisih pemudik dengan hari kemarin\n",
       "8  09/06/19                                   49"
      ]
     },
     "execution_count": 17,
     "metadata": {},
     "output_type": "execute_result"
    }
   ],
   "source": [
    "jumlah_pemudik = catatan_lokasi.groupby(\"tanggal\").sum()[\"mudik\"]\n",
    "pemudik_sblm = 0\n",
    "pemudik_pulang = {}\n",
    "for tgl in jumlah_pemudik.index:\n",
    "    pemudik_pulang[tgl] = pemudik_sblm-jumlah_pemudik[tgl]\n",
    "    pemudik_sblm = jumlah_pemudik[tgl]\n",
    "\n",
    "df_pemudik_pulang = pd.DataFrame(list(pemudik_pulang.items()), columns=[\"tanggal\", \"selisih pemudik dengan hari kemarin\"])\n",
    "df_pemudik_pulang.sort_values(\"selisih pemudik dengan hari kemarin\",ascending=False).head(1)"
   ]
  },
  {
   "cell_type": "markdown",
   "metadata": {},
   "source": [
    "9. Berapa jumlah karyawan yang mudik dan tergabung dalam Divisi Data Science?"
   ]
  },
  {
   "cell_type": "code",
   "execution_count": 18,
   "metadata": {},
   "outputs": [
    {
     "name": "stdout",
     "output_type": "stream",
     "text": [
      "Semua karyawan data science mudik\n"
     ]
    }
   ],
   "source": [
    "df_mudik_ds = catatan_lokasi[(catatan_lokasi[\"mudik\"]==1) & (catatan_lokasi[\"id\"].isin(kel_divisi['Data Science']))]\n",
    "id_mudik_ds = set(df_mudik_ds.id.unique())\n",
    "\n",
    "if id_mudik_ds==kel_divisi[\"Data Science\"]:\n",
    "    print(\"Semua karyawan data science mudik\")\n",
    "else:\n",
    "    print(f\"{len(id_mudik_ds)} karyawan data science mudik\")"
   ]
  },
  {
   "cell_type": "markdown",
   "metadata": {},
   "source": [
    "10. Berapakah umur karyawan yang paling senior dari dari karyawan yang tergabung dalam divisi Data Engineer?"
   ]
  },
  {
   "cell_type": "code",
   "execution_count": 19,
   "metadata": {},
   "outputs": [
    {
     "data": {
      "text/html": [
       "<div>\n",
       "<style scoped>\n",
       "    .dataframe tbody tr th:only-of-type {\n",
       "        vertical-align: middle;\n",
       "    }\n",
       "\n",
       "    .dataframe tbody tr th {\n",
       "        vertical-align: top;\n",
       "    }\n",
       "\n",
       "    .dataframe thead th {\n",
       "        text-align: right;\n",
       "    }\n",
       "</style>\n",
       "<table border=\"1\" class=\"dataframe\">\n",
       "  <thead>\n",
       "    <tr style=\"text-align: right;\">\n",
       "      <th></th>\n",
       "      <th>id</th>\n",
       "      <th>jenis_kelamin</th>\n",
       "      <th>divisi</th>\n",
       "      <th>umur</th>\n",
       "    </tr>\n",
       "  </thead>\n",
       "  <tbody>\n",
       "    <tr>\n",
       "      <th>49</th>\n",
       "      <td>50</td>\n",
       "      <td>Laki-laki</td>\n",
       "      <td>Data Science</td>\n",
       "      <td>35</td>\n",
       "    </tr>\n",
       "  </tbody>\n",
       "</table>\n",
       "</div>"
      ],
      "text/plain": [
       "    id jenis_kelamin        divisi  umur\n",
       "49  50     Laki-laki  Data Science    35"
      ]
     },
     "execution_count": 19,
     "metadata": {},
     "output_type": "execute_result"
    }
   ],
   "source": [
    "#di sorting umur dari terbesar ke terkecil\n",
    "df_ds = data_profil[data_profil[\"divisi\"]==\"Data Science\"]\n",
    "df_ds.sort_values(\"umur\",ascending=False).head(1)"
   ]
  },
  {
   "cell_type": "markdown",
   "metadata": {},
   "source": [
    "11. Berapa jumlah karyawan TokoLapak?"
   ]
  },
  {
   "cell_type": "code",
   "execution_count": 20,
   "metadata": {},
   "outputs": [
    {
     "name": "stdout",
     "output_type": "stream",
     "text": [
      "karyawan tokolapak berjumlah 100 orang\n"
     ]
    }
   ],
   "source": [
    "jumlah = len(data_profil.index.unique())\n",
    "print(f\"karyawan tokolapak berjumlah {jumlah} orang\")"
   ]
  },
  {
   "cell_type": "markdown",
   "metadata": {},
   "source": [
    "12. Karyawan dengan id berapakah yang mudiknya paling lama (perkiraan 20 hari mudik)?"
   ]
  },
  {
   "cell_type": "code",
   "execution_count": 21,
   "metadata": {},
   "outputs": [
    {
     "data": {
      "text/html": [
       "<div>\n",
       "<style scoped>\n",
       "    .dataframe tbody tr th:only-of-type {\n",
       "        vertical-align: middle;\n",
       "    }\n",
       "\n",
       "    .dataframe tbody tr th {\n",
       "        vertical-align: top;\n",
       "    }\n",
       "\n",
       "    .dataframe thead th {\n",
       "        text-align: right;\n",
       "    }\n",
       "</style>\n",
       "<table border=\"1\" class=\"dataframe\">\n",
       "  <thead>\n",
       "    <tr style=\"text-align: right;\">\n",
       "      <th></th>\n",
       "      <th>id</th>\n",
       "      <th>lama mudik</th>\n",
       "    </tr>\n",
       "  </thead>\n",
       "  <tbody>\n",
       "    <tr>\n",
       "      <th>92</th>\n",
       "      <td>10</td>\n",
       "      <td>20</td>\n",
       "    </tr>\n",
       "  </tbody>\n",
       "</table>\n",
       "</div>"
      ],
      "text/plain": [
       "    id  lama mudik\n",
       "92  10          20"
      ]
     },
     "execution_count": 21,
     "metadata": {},
     "output_type": "execute_result"
    }
   ],
   "source": [
    "long_streak = {}\n",
    "streak = {}\n",
    "for tm in tanggal_mudik:\n",
    "    id_mudik = set(catatan_lokasi[(catatan_lokasi[\"tanggal\"]==tm) & (catatan_lokasi[\"mudik\"]==1)].id)\n",
    "    for s in list(streak.keys()):\n",
    "        if s not in id_mudik:\n",
    "            if (s not in list(long_streak.keys())) or (streak[s]>long_streak[s]):\n",
    "                long_streak[s] = streak[s]\n",
    "            del streak[s]\n",
    "    for i in id_mudik:\n",
    "        if i in streak:\n",
    "            streak[i] += 1\n",
    "        else:\n",
    "            streak[i] = 1\n",
    "    \n",
    "df_long_streak = pd.DataFrame(list(long_streak.items()), columns=[\"id\",\"lama mudik\"])\n",
    "df_long_streak.sort_values(\"lama mudik\",ascending=False).head(1)"
   ]
  },
  {
   "cell_type": "markdown",
   "metadata": {},
   "source": [
    "13. Kabupaten/Kota manakah yang menjadi tujuan mudik terbanyak?"
   ]
  },
  {
   "cell_type": "code",
   "execution_count": 22,
   "metadata": {},
   "outputs": [
    {
     "data": {
      "text/html": [
       "<div>\n",
       "<style scoped>\n",
       "    .dataframe tbody tr th:only-of-type {\n",
       "        vertical-align: middle;\n",
       "    }\n",
       "\n",
       "    .dataframe tbody tr th {\n",
       "        vertical-align: top;\n",
       "    }\n",
       "\n",
       "    .dataframe thead th {\n",
       "        text-align: right;\n",
       "    }\n",
       "</style>\n",
       "<table border=\"1\" class=\"dataframe\">\n",
       "  <thead>\n",
       "    <tr style=\"text-align: right;\">\n",
       "      <th></th>\n",
       "      <th>kota/kab</th>\n",
       "      <th>jumlah pemudik</th>\n",
       "    </tr>\n",
       "  </thead>\n",
       "  <tbody>\n",
       "    <tr>\n",
       "      <th>6</th>\n",
       "      <td>Kota Yogyakarta</td>\n",
       "      <td>14</td>\n",
       "    </tr>\n",
       "    <tr>\n",
       "      <th>8</th>\n",
       "      <td>Kabupaten Sleman</td>\n",
       "      <td>14</td>\n",
       "    </tr>\n",
       "    <tr>\n",
       "      <th>0</th>\n",
       "      <td>Kota Medan</td>\n",
       "      <td>12</td>\n",
       "    </tr>\n",
       "    <tr>\n",
       "      <th>10</th>\n",
       "      <td>Kabupaten Bantul</td>\n",
       "      <td>9</td>\n",
       "    </tr>\n",
       "    <tr>\n",
       "      <th>1</th>\n",
       "      <td>Kota Padang</td>\n",
       "      <td>8</td>\n",
       "    </tr>\n",
       "  </tbody>\n",
       "</table>\n",
       "</div>"
      ],
      "text/plain": [
       "            kota/kab  jumlah pemudik\n",
       "6    Kota Yogyakarta              14\n",
       "8   Kabupaten Sleman              14\n",
       "0         Kota Medan              12\n",
       "10  Kabupaten Bantul               9\n",
       "1        Kota Padang               8"
      ]
     },
     "execution_count": 22,
     "metadata": {},
     "output_type": "execute_result"
    }
   ],
   "source": [
    "count_kota = {}\n",
    "for i in data_profil.index:\n",
    "    kota_mudik = catatan_lokasi[(catatan_lokasi[\"id\"]==i) & (catatan_lokasi[\"mudik\"]==1)][\"lokasi_dominan\"].unique()\n",
    "    for i in kota_mudik:\n",
    "        try:\n",
    "            count_kota[i] += 1\n",
    "        except:\n",
    "            count_kota[i] = 1\n",
    "\n",
    "df_count_kota = pd.DataFrame(list(count_kota.items()), columns=[\"kota/kab\",\"jumlah pemudik\"])\n",
    "df_count_kota.sort_values(\"jumlah pemudik\",ascending=False).head()"
   ]
  },
  {
   "cell_type": "markdown",
   "metadata": {},
   "source": [
    "14. Divisi apakah yang semua anggotanya mudik?"
   ]
  },
  {
   "cell_type": "code",
   "execution_count": 23,
   "metadata": {},
   "outputs": [
    {
     "name": "stdout",
     "output_type": "stream",
     "text": [
      "divisi Customer Service semuanya mudik\n",
      "divisi Data Engineer semuanya mudik\n",
      "divisi Software Engineer semuanya mudik\n",
      "divisi Business Intelligence semuanya mudik\n",
      "divisi Data Science semuanya mudik\n",
      "divisi Marketing semuanya mudik\n"
     ]
    }
   ],
   "source": [
    "id_mudik = set(catatan_lokasi[catatan_lokasi[\"mudik\"]==1].id)\n",
    "for div,i in kel_divisi.items():\n",
    "    if set(i).intersection(id_mudik):\n",
    "        print(f\"divisi {div} semuanya mudik\")"
   ]
  },
  {
   "cell_type": "markdown",
   "metadata": {},
   "source": [
    "15. Kabupaten/Kota manakah yang menjadi tujuan mudik paling sedikit?"
   ]
  },
  {
   "cell_type": "code",
   "execution_count": 24,
   "metadata": {},
   "outputs": [
    {
     "data": {
      "text/html": [
       "<div>\n",
       "<style scoped>\n",
       "    .dataframe tbody tr th:only-of-type {\n",
       "        vertical-align: middle;\n",
       "    }\n",
       "\n",
       "    .dataframe tbody tr th {\n",
       "        vertical-align: top;\n",
       "    }\n",
       "\n",
       "    .dataframe thead th {\n",
       "        text-align: right;\n",
       "    }\n",
       "</style>\n",
       "<table border=\"1\" class=\"dataframe\">\n",
       "  <thead>\n",
       "    <tr style=\"text-align: right;\">\n",
       "      <th></th>\n",
       "      <th>kota/kab</th>\n",
       "      <th>jumlah pemudik</th>\n",
       "    </tr>\n",
       "  </thead>\n",
       "  <tbody>\n",
       "    <tr>\n",
       "      <th>12</th>\n",
       "      <td>Kabupaten Kebumen</td>\n",
       "      <td>2</td>\n",
       "    </tr>\n",
       "    <tr>\n",
       "      <th>14</th>\n",
       "      <td>Kota Banda Aceh</td>\n",
       "      <td>2</td>\n",
       "    </tr>\n",
       "    <tr>\n",
       "      <th>11</th>\n",
       "      <td>Kabupaten Tasikmalaya</td>\n",
       "      <td>4</td>\n",
       "    </tr>\n",
       "    <tr>\n",
       "      <th>2</th>\n",
       "      <td>Kota Manado</td>\n",
       "      <td>5</td>\n",
       "    </tr>\n",
       "    <tr>\n",
       "      <th>9</th>\n",
       "      <td>Kota Semarang</td>\n",
       "      <td>5</td>\n",
       "    </tr>\n",
       "  </tbody>\n",
       "</table>\n",
       "</div>"
      ],
      "text/plain": [
       "                 kota/kab  jumlah pemudik\n",
       "12      Kabupaten Kebumen               2\n",
       "14        Kota Banda Aceh               2\n",
       "11  Kabupaten Tasikmalaya               4\n",
       "2             Kota Manado               5\n",
       "9           Kota Semarang               5"
      ]
     },
     "execution_count": 24,
     "metadata": {},
     "output_type": "execute_result"
    }
   ],
   "source": [
    "df_count_kota.sort_values(\"jumlah pemudik\").head()"
   ]
  },
  {
   "cell_type": "markdown",
   "metadata": {},
   "source": [
    "16. Di hari apakah yang menjadi hari favorit (paling banyak) karyawan Tokolapak melakukan mudik? Asumsikan waktu yang dibutuhkan untuk mudik kurang dari 1 hari, dan apabila dia mulai berada di luar Jabodetabek pada hari tersebut, maka hari tersebutlah yang menjadi dominan lokasi seseorang mudik."
   ]
  },
  {
   "cell_type": "code",
   "execution_count": 25,
   "metadata": {},
   "outputs": [
    {
     "data": {
      "text/plain": [
       "id                93\n",
       "lokasi_dominan    93\n",
       "mudik             93\n",
       "dtype: int64"
      ]
     },
     "execution_count": 25,
     "metadata": {},
     "output_type": "execute_result"
    }
   ],
   "source": [
    "catatan_lokasi[catatan_lokasi[\"mudik\"]==1].groupby('tanggal').count().max()"
   ]
  },
  {
   "cell_type": "markdown",
   "metadata": {},
   "source": [
    "17. Dari daftar karyawan berikut, siapakah yang memiliki kans untuk dititipi oleh-oleh Lapis Legit Zulaikha tersebut?"
   ]
  },
  {
   "cell_type": "code",
   "execution_count": 26,
   "metadata": {},
   "outputs": [
    {
     "name": "stdout",
     "output_type": "stream",
     "text": [
      "karyawan dengan id 17 paling mungkin dititipi lapis legit zulaikha\n"
     ]
    }
   ],
   "source": [
    "mudik_medan = catatan_lokasi[catatan_lokasi[\"lokasi_dominan\"]==\"Kota Medan\"].id\n",
    "lama_medan = mudik_medan.value_counts().index[0]\n",
    "print(f\"karyawan dengan id {lama_medan} paling mungkin dititipi lapis legit zulaikha\")"
   ]
  },
  {
   "cell_type": "markdown",
   "metadata": {},
   "source": [
    "18. Karyawan dengan id berapakah yang memiliki kesempatan untuk membawa oleh-oleh makanan khas Kartika Sari Bandung?"
   ]
  },
  {
   "cell_type": "code",
   "execution_count": 27,
   "metadata": {},
   "outputs": [
    {
     "name": "stdout",
     "output_type": "stream",
     "text": [
      "karyawan dengan id 21 paling mungkin dititipi makanan khas Kartika Sari Bandung\n"
     ]
    }
   ],
   "source": [
    "mudik_bdg = catatan_lokasi[catatan_lokasi[\"lokasi_dominan\"]==\"Kota Bandung\"].id\n",
    "lama_bdg = mudik_bdg.value_counts().index[0]\n",
    "print(f\"karyawan dengan id {lama_bdg} paling mungkin dititipi makanan khas Kartika Sari Bandung\")"
   ]
  },
  {
   "cell_type": "markdown",
   "metadata": {},
   "source": [
    "19. Berapa banyak karyawan TokoLapak yang melakukan mudik Lebaran 2019? Catatan: Diasumsikan bahwa karyawan yang melakukan mudik adalah karyawan yang tidak berada di Jabodetabek pada hari H Lebaran, yaitu 5 Juni 2019"
   ]
  },
  {
   "cell_type": "code",
   "execution_count": 28,
   "metadata": {},
   "outputs": [
    {
     "name": "stdout",
     "output_type": "stream",
     "text": [
      "Dari 100 karyawan, sebanyak 9 karyawan tidak mudik di hari H lebaran\n"
     ]
    }
   ],
   "source": [
    "mudik_lebaran = catatan_lokasi[(catatan_lokasi[\"mudik\"]==1) & (catatan_lokasi[\"tanggal\"]==\"05/06/19\")]\n",
    "jum_mudik_lebaran = mudik_lebaran.id.count()\n",
    "jum_karyawan = len(data_profil)\n",
    "print(f\"Dari {jum_karyawan} karyawan, sebanyak {jum_karyawan-jum_mudik_lebaran} karyawan tidak mudik di hari H lebaran\")"
   ]
  },
  {
   "cell_type": "markdown",
   "metadata": {},
   "source": [
    "20. Berapa persen dari total jumlah karyawan yang mudik, karyawan Tokolapak pulang ke Jabodetabek pada tanggal 9 Juni 2019?"
   ]
  },
  {
   "cell_type": "code",
   "execution_count": 29,
   "metadata": {},
   "outputs": [
    {
     "name": "stdout",
     "output_type": "stream",
     "text": [
      "58 dari 91 karyawan sudah pulang mudik lebaran di tanggal 9 Juni 2019\n"
     ]
    }
   ],
   "source": [
    "plg_mudik = catatan_lokasi[(catatan_lokasi[\"mudik\"]==0) & (catatan_lokasi[\"tanggal\"]==\"09/06/19\") & (catatan_lokasi[\"id\"].isin(mudik_lebaran[\"id\"]))].id.count()\n",
    "print(f\"{plg_mudik} dari {jum_mudik_lebaran} karyawan sudah pulang mudik lebaran di tanggal 9 Juni 2019\")"
   ]
  },
  {
   "cell_type": "markdown",
   "metadata": {},
   "source": [
    "21. Divisi apakah yang persentase pemudiknya paling sedikit?"
   ]
  },
  {
   "cell_type": "code",
   "execution_count": 30,
   "metadata": {},
   "outputs": [
    {
     "name": "stdout",
     "output_type": "stream",
     "text": [
      "Divisi Software Engineer memiliki persentase pemudik paling kecil\n"
     ]
    }
   ],
   "source": [
    "tdk_mudik = data_profil[~(data_profil.index.isin(mudik_lebaran[\"id\"]))]\n",
    "div_tdk_mudik = tdk_mudik['divisi'].value_counts()\n",
    "persen_kecil = 100\n",
    "for dtm in div_tdk_mudik.index:\n",
    "    persen_divisi = div_tdk_mudik[dtm]/len(data_profil[data_profil[\"divisi\"]==dtm])\n",
    "    if persen_divisi<persen_kecil:\n",
    "        persen_kecil = persen_divisi\n",
    "        div_kecil = dtm\n",
    "    \n",
    "print(f\"Divisi {div_kecil} memiliki persentase pemudik paling kecil\")"
   ]
  },
  {
   "cell_type": "markdown",
   "metadata": {},
   "source": [
    "22. Divisi apakah yang jumlah pemudiknya paling sedikit ?"
   ]
  },
  {
   "cell_type": "code",
   "execution_count": 31,
   "metadata": {},
   "outputs": [
    {
     "name": "stdout",
     "output_type": "stream",
     "text": [
      "Divisi Business Intelligence memiliki jumlah pemudik paling sedikit\n"
     ]
    }
   ],
   "source": [
    "div_less_mudik = div_tdk_mudik.index[0]\n",
    "print(f\"Divisi {div_less_mudik} memiliki jumlah pemudik paling sedikit\")"
   ]
  },
  {
   "cell_type": "markdown",
   "metadata": {},
   "source": [
    "23. Ada karyawan yang mudik ke Kabupaten Lampung Selatan, yaitu karyawan dengan id 80. Pada tanggal berapakah dia sudah pulang ke Jabodetabek?"
   ]
  },
  {
   "cell_type": "code",
   "execution_count": 32,
   "metadata": {},
   "outputs": [
    {
     "name": "stdout",
     "output_type": "stream",
     "text": [
      "Hari terkahir id 80 ada di Kabupaten Lampung Selatan pada 07/06/19\n"
     ]
    }
   ],
   "source": [
    "mudik80 = catatan_lokasi[(catatan_lokasi[\"mudik\"]==1) & (catatan_lokasi[\"id\"]==80)]\n",
    "akhir_mudik80 = mudik80.tail(1).tanggal.values[0]\n",
    "\n",
    "print(f\"Hari terkahir id 80 ada di Kabupaten Lampung Selatan pada {akhir_mudik80}\")"
   ]
  },
  {
   "cell_type": "markdown",
   "metadata": {},
   "source": [
    "24. Berapa karyawan dapat diminta tolong untuk dititipi oleh-oleh Lapis Legit Zulaikha langsung dari tokonya?"
   ]
  },
  {
   "cell_type": "code",
   "execution_count": 33,
   "metadata": {},
   "outputs": [
    {
     "name": "stdout",
     "output_type": "stream",
     "text": [
      "12 karyawan bisa dititipi Lapis Legit Zulaikha\n"
     ]
    }
   ],
   "source": [
    "jum_mudik_medan = len(mudik_medan.unique())\n",
    "print(f\"{jum_mudik_medan} karyawan bisa dititipi Lapis Legit Zulaikha\")"
   ]
  },
  {
   "cell_type": "markdown",
   "metadata": {},
   "source": [
    "25. Pada tanggal berapakah seluruh karyawan Tokolapak sudah berada di Jabodetabek"
   ]
  },
  {
   "cell_type": "code",
   "execution_count": null,
   "metadata": {},
   "outputs": [],
   "source": []
  },
  {
   "cell_type": "markdown",
   "metadata": {},
   "source": [
    "Dalam memilih model klasifikasi, tidaklah cukup dengan melihat akurasi, terdapat beberapa kriteria diantaranya :\n",
    "<ol>\n",
    "<li>Presisi</li>\n",
    "<li>Recall/Sensitifitas</li>\n",
    "<li>Spesifisitas</li>\n",
    "<li>F-1 Score</li>\n",
    "</ol>\n",
    "\n",
    "Dalam file klasifikasi.csv, terdapat hasil dari prediksi klas dan klas dari data yang sebenarnya, 1 adalah kelas positif dan 0 adalah kelas negatif, carilah masing-masing presisi, recall, spesifisitas, f-1 score, dan akurasi menggunakan fungsi yang didefinisikan (tidak menggunakan bantuan modul python seperti sklearn). Berikut adalah formulasinya :\n",
    "<br>\n",
    "<br>\n",
    "<img alt=\"\" src=\"Confusion-matrix-for-binary-classification.png\" style=\"height:280px\" /> \n",
    "<img alt=\"\" src=\"model evaluation.png\" style=\"height:280px\" /> "
   ]
  },
  {
   "cell_type": "code",
   "execution_count": 35,
   "metadata": {},
   "outputs": [
    {
     "data": {
      "text/html": [
       "<div>\n",
       "<style scoped>\n",
       "    .dataframe tbody tr th:only-of-type {\n",
       "        vertical-align: middle;\n",
       "    }\n",
       "\n",
       "    .dataframe tbody tr th {\n",
       "        vertical-align: top;\n",
       "    }\n",
       "\n",
       "    .dataframe thead th {\n",
       "        text-align: right;\n",
       "    }\n",
       "</style>\n",
       "<table border=\"1\" class=\"dataframe\">\n",
       "  <thead>\n",
       "    <tr style=\"text-align: right;\">\n",
       "      <th></th>\n",
       "      <th>Aktual</th>\n",
       "      <th>Prediksi</th>\n",
       "    </tr>\n",
       "  </thead>\n",
       "  <tbody>\n",
       "    <tr>\n",
       "      <th>0</th>\n",
       "      <td>1</td>\n",
       "      <td>0</td>\n",
       "    </tr>\n",
       "    <tr>\n",
       "      <th>1</th>\n",
       "      <td>1</td>\n",
       "      <td>1</td>\n",
       "    </tr>\n",
       "    <tr>\n",
       "      <th>2</th>\n",
       "      <td>1</td>\n",
       "      <td>1</td>\n",
       "    </tr>\n",
       "    <tr>\n",
       "      <th>3</th>\n",
       "      <td>1</td>\n",
       "      <td>1</td>\n",
       "    </tr>\n",
       "    <tr>\n",
       "      <th>4</th>\n",
       "      <td>1</td>\n",
       "      <td>1</td>\n",
       "    </tr>\n",
       "  </tbody>\n",
       "</table>\n",
       "</div>"
      ],
      "text/plain": [
       "   Aktual  Prediksi\n",
       "0       1         0\n",
       "1       1         1\n",
       "2       1         1\n",
       "3       1         1\n",
       "4       1         1"
      ]
     },
     "execution_count": 35,
     "metadata": {},
     "output_type": "execute_result"
    }
   ],
   "source": [
    "import pandas as pd\n",
    "df = pd.read_csv('klasifikasi.csv')\n",
    "df.head()"
   ]
  },
  {
   "cell_type": "code",
   "execution_count": 36,
   "metadata": {},
   "outputs": [],
   "source": [
    "aktual = df['Aktual'].to_list()\n",
    "prediksi = df['Prediksi'].to_list()"
   ]
  },
  {
   "cell_type": "code",
   "execution_count": null,
   "metadata": {},
   "outputs": [],
   "source": [
    "list = [1,1,1,1,1]"
   ]
  },
  {
   "cell_type": "code",
   "execution_count": 37,
   "metadata": {},
   "outputs": [],
   "source": [
    "def presisi():\n",
    "    tp = 0\n",
    "    fp = 0\n",
    "    for i in range(len(aktual)):\n",
    "        if prediksi[i] == 1 and aktual[i] == 1 :\n",
    "            tp += 1\n",
    "        elif prediksi[i] == 1 and aktual[i] == 0 :\n",
    "                fp += 1\n",
    "    hasil = tp / (tp+fp)\n",
    "    return (hasil)"
   ]
  },
  {
   "cell_type": "code",
   "execution_count": 38,
   "metadata": {},
   "outputs": [
    {
     "data": {
      "text/plain": [
       "0.8653846153846154"
      ]
     },
     "execution_count": 38,
     "metadata": {},
     "output_type": "execute_result"
    }
   ],
   "source": [
    "presisi()"
   ]
  },
  {
   "cell_type": "code",
   "execution_count": 39,
   "metadata": {},
   "outputs": [
    {
     "data": {
      "text/plain": [
       "0.9"
      ]
     },
     "execution_count": 39,
     "metadata": {},
     "output_type": "execute_result"
    }
   ],
   "source": [
    "def recall():\n",
    "    tp = 0\n",
    "    fn = 0\n",
    "    for i in range(len(aktual)):\n",
    "        if aktual[i] == 1 and prediksi[i] == 1:\n",
    "            tp += 1\n",
    "        elif prediksi [i] == 0 and aktual[i]== 1:\n",
    "            fn += 1\n",
    "    hasil = tp / (tp + fn)\n",
    "    return(hasil)\n",
    "recall()"
   ]
  },
  {
   "cell_type": "code",
   "execution_count": 40,
   "metadata": {},
   "outputs": [
    {
     "data": {
      "text/plain": [
       "0.86"
      ]
     },
     "execution_count": 40,
     "metadata": {},
     "output_type": "execute_result"
    }
   ],
   "source": [
    "def spesifisitas():\n",
    "    tn = 0\n",
    "    fp = 0\n",
    "    for i in range(len(aktual)):\n",
    "        if aktual[i] == 0 and prediksi[i] == 0:\n",
    "            tn += 1\n",
    "        elif prediksi [i] == 1 and aktual[i]== 0:\n",
    "            fp += 1\n",
    "    hasil = tn / (tn + fp)\n",
    "    return(hasil)\n",
    "spesifisitas()"
   ]
  },
  {
   "cell_type": "code",
   "execution_count": 41,
   "metadata": {},
   "outputs": [
    {
     "data": {
      "text/plain": [
       "0.8823529411764707"
      ]
     },
     "execution_count": 41,
     "metadata": {},
     "output_type": "execute_result"
    }
   ],
   "source": [
    "def f1_score():\n",
    "    hasil_presisi = presisi()\n",
    "    hasil_recall = recall()\n",
    "    hasil = 2 * (hasil_presisi * hasil_recall) / (hasil_presisi + hasil_recall)\n",
    "    return(hasil)\n",
    "f1_score()"
   ]
  },
  {
   "cell_type": "code",
   "execution_count": null,
   "metadata": {},
   "outputs": [],
   "source": []
  }
 ],
 "metadata": {
  "kernelspec": {
   "display_name": "Python 3",
   "language": "python",
   "name": "python3"
  },
  "language_info": {
   "codemirror_mode": {
    "name": "ipython",
    "version": 3
   },
   "file_extension": ".py",
   "mimetype": "text/x-python",
   "name": "python",
   "nbconvert_exporter": "python",
   "pygments_lexer": "ipython3",
   "version": "3.6.5"
  }
 },
 "nbformat": 4,
 "nbformat_minor": 2
}
